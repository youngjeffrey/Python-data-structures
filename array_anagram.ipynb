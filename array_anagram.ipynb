{
 "cells": [
  {
   "cell_type": "markdown",
   "metadata": {},
   "source": [
    "# Anagram Check\n",
    "\n",
    "## Problem\n",
    "\n",
    "Given two strings, check to see if they are anagrams. An anagram is when the two strings can be written using the exact same letters (so you can just rearrange the letters to get a different phrase or word).\n",
    "\n",
    "    For example:\n",
    "    \n",
    "        \"public relations\" is an anagram of \"crap built on lies.\"\n",
    "\n",
    "        \"clint eastwood\" is an anagram of \"old west action\""
   ]
  },
  {
   "cell_type": "code",
   "execution_count": 105,
   "metadata": {},
   "outputs": [],
   "source": [
    "def anagram(s, t):\n",
    "\n",
    "    #stext = list(lowers)\n",
    "    \n",
    "    s = s.lower().replace(\" \",\"\")\n",
    "    t = t.lower().replace(\" \",\"\")\n",
    "    #ttext = list(lowert)\n",
    "    \n",
    "    num = len(s)\n",
    "    num1 = len(t)\n",
    "    \n",
    "    if(num != num1):\n",
    "        return False\n",
    "    \n",
    "    count = 0\n",
    "    count1 = 0\n",
    "\n",
    "    for i in s:\n",
    "        if i in t:\n",
    "            count += 1\n",
    "    \n",
    "    for i in t:\n",
    "        if i in s:\n",
    "            count1 += 1\n",
    "    \n",
    "    if count != count1:\n",
    "            return False\n",
    "    \n",
    "    return True\n",
    "    pass"
   ]
  },
  {
   "cell_type": "code",
   "execution_count": 106,
   "metadata": {},
   "outputs": [
    {
     "data": {
      "text/plain": [
       "True"
      ]
     },
     "execution_count": 106,
     "metadata": {},
     "output_type": "execute_result"
    }
   ],
   "source": [
    "anagram('party boob','party boob')"
   ]
  },
  {
   "cell_type": "markdown",
   "metadata": {},
   "source": [
    "# Test Your Solution\n",
    "\n",
    "Run the cell below to test your solution"
   ]
  },
  {
   "cell_type": "code",
   "execution_count": 107,
   "metadata": {},
   "outputs": [
    {
     "name": "stdout",
     "output_type": "stream",
     "text": [
      "ALL TEST CASES PASSED\n"
     ]
    }
   ],
   "source": [
    "\"\"\"\n",
    "RUN THIS CELL TO TEST YOUR SOLUTION\n",
    "\"\"\"\n",
    "from nose.tools import assert_equal\n",
    "\n",
    "class AnagramTest(object):\n",
    "    \n",
    "    def test(self,sol):\n",
    "        assert_equal(sol('go go go','gggooo'),True)\n",
    "        assert_equal(sol('abc','cba'),True)\n",
    "        assert_equal(sol('hi man','hi     man'),True)\n",
    "        assert_equal(sol('aabbcc','aabbc'),False)\n",
    "        assert_equal(sol('123','1 2'),False)\n",
    "        print('ALL TEST CASES PASSED')\n",
    "\n",
    "# Run Tests\n",
    "t = AnagramTest()\n",
    "t.test(anagram)"
   ]
  },
  {
   "cell_type": "code",
   "execution_count": null,
   "metadata": {},
   "outputs": [],
   "source": []
  }
 ],
 "metadata": {
  "kernelspec": {
   "display_name": "Python 3",
   "language": "python",
   "name": "python3"
  },
  "language_info": {
   "codemirror_mode": {
    "name": "ipython",
    "version": 3
   },
   "file_extension": ".py",
   "mimetype": "text/x-python",
   "name": "python",
   "nbconvert_exporter": "python",
   "pygments_lexer": "ipython3",
   "version": "3.6.4"
  }
 },
 "nbformat": 4,
 "nbformat_minor": 2
}
